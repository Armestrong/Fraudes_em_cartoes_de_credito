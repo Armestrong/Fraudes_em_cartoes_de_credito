{
  "nbformat": 4,
  "nbformat_minor": 0,
  "metadata": {
    "colab": {
      "name": "04  PROJETO- Detecção de Fraude em Cartões de Crédito.ipynb",
      "provenance": [],
      "collapsed_sections": [],
      "include_colab_link": true
    },
    "kernelspec": {
      "name": "python3",
      "display_name": "Python 3"
    }
  },
  "cells": [
    {
      "cell_type": "markdown",
      "metadata": {
        "id": "view-in-github",
        "colab_type": "text"
      },
      "source": [
        "<a href=\"https://colab.research.google.com/github/Armestrong/Fraudes_em_cartoes_de_credito/blob/master/Detec%C3%A7%C3%A3o_de_Fraude_em_Cart%C3%B5es_de_Cr%C3%A9dito.ipynb\" target=\"_parent\"><img src=\"https://colab.research.google.com/assets/colab-badge.svg\" alt=\"Open In Colab\"/></a>"
      ]
    },
    {
      "cell_type": "markdown",
      "metadata": {
        "id": "IR56trFcPcC1",
        "colab_type": "text"
      },
      "source": [
        "<img src=\"https://github.com/Armestrong/Fraudes_em_cartoes_de_credito/blob/master/img/CARTAO.jpg?raw=true\"></p>\n",
        "\n",
        "Neste projeto, iremos abordar o problema das fraudes em cartões de crédito, uma das principais preocupações das instituições financeiras como bancos e *fintechs*. Apenas no Brasil, cerca de 12,1 milhões de pessoas já foram vítimas de algum tipo de fraude financeira no último ano. Traduzindo em valores, os golpes financeiros ultrapassaram a cifra de R$ 1,8 bilhão de prejuízo por ano para os últimos 12 meses.\n",
        "\n",
        "Dentra essas fraudes, aquelas envolvendo cartões de crédito são de grande relevância uma vez que a sua não-detecção acaretará em prejuízos consideráveis, tanto para o consumidor quanto para a instituição financeira.\n",
        "\n",
        "Um outro fator a ser considerado é a quantidade de falsos positivos, ou seja, aquelas vezes em que você tentou fazer uma compra e teve seu cartão bloqueado preventivamente - o que provavelmente gerou estresse e constrangimento.\n",
        "\n",
        "Por todos esses motivos, o investimento na área de detecção de fraudes por meio de Inteligência Artificial vem crescendo a cada ano, representando uma grande oportunidade em *Data Science*. \n",
        "\n",
        "Dispondo de grandes volumes de dados como base histórica, um algoritmo de machine learning apenas um pouco melhor que os anteriores já representa uma economia de milhões de Reais. E esse é o desafio, aprimorar cada vez mais o uso de algoritmos visando inibir ou evitar transações fraudulentas."
      ]
    },
    {
      "cell_type": "markdown",
      "metadata": {
        "id": "0HVmpIxQWT4Y",
        "colab_type": "text"
      },
      "source": [
        "## Importando os Dados\n",
        "\n",
        "Os dados que usaremos neste projeto foram disponibilizados por algumas empresas européias de cartão de crédito. O *dataset* representa as operações financeiras que aconteceram no período de dois dias, onde foram classificadas 492 fraudes em meio a quase 290 mil transações.\n",
        "\n",
        "Como você pode notar, este é um conjunto de dados extremamente desbalanceado, onde as fraudes representam apenas 0,17% do total.\n",
        "\n",
        "Outro detalhe interessante é que as *features* são todas numéricas, e foram descaracterizadas (por problemas ligados à privacidade e segurança). Assim, os nomes das colunas são representados por $[V1, V2, V3 \\dots, V28]$ \n",
        "\n",
        "<p align=center>\n",
        "<img src=\"http://sigmoidal.ai/wp-content/uploads/2019/12/54.jpg\" width=\"50%\"></p>\n",
        "\n",
        "[Na página original dos dados](https://www.kaggle.com/mlg-ulb/creditcardfraud), também é informado que as variáveis passaram por uma transformação conhecida como Análise de Componentes Principais (*Principal Component Analysis* - PCA).\n",
        "\n",
        "A PCA permite a redução da dimensionalidade enquanto mantém o maior número possível de informações. Para conseguir isso, o algoritmo encontra um conjunto novo de recursos - os chamados **componentes**.\n",
        "\n",
        "Esses componentes são em número menor or igual às variáveis originais. No caso deste projeto, os componentes achados pela transformação da PCA são as próprias colunas $[V1, V2, V3 \\dots, V28]$."
      ]
    },
    {
      "cell_type": "code",
      "metadata": {
        "id": "oQ4bNy7udtEE",
        "colab_type": "code",
        "outputId": "903dd7df-949a-4e55-dded-b619fa8484a2",
        "colab": {
          "base_uri": "https://localhost:8080/",
          "height": 105
        }
      },
      "source": [
        "# importar os pacotes necessários\n",
        "import pandas as pd\n",
        "import numpy as np\n",
        "import matplotlib.pyplot as plt\n",
        "import seaborn as sns\n",
        "!pip install -q scikit-plot\n",
        "import scikitplot as skplt\n",
        "\n",
        "from sklearn.model_selection import train_test_split\n",
        "from sklearn.linear_model import LogisticRegression\n",
        "from sklearn.metrics import classification_report\n",
        "from sklearn.metrics import roc_auc_score, roc_curve, accuracy_score\n",
        "\n",
        "from sklearn.preprocessing import StandardScaler\n",
        "from imblearn.under_sampling import RandomUnderSampler\n",
        "\n",
        "#configurando o estilo dos graficos do seanborn\n",
        "sns.set_style('dark')"
      ],
      "execution_count": 2,
      "outputs": [
        {
          "output_type": "stream",
          "text": [
            "/usr/local/lib/python3.6/dist-packages/sklearn/externals/six.py:31: FutureWarning: The module is deprecated in version 0.21 and will be removed in version 0.23 since we've dropped support for Python 2.7. Please rely on the official version of six (https://pypi.org/project/six/).\n",
            "  \"(https://pypi.org/project/six/).\", FutureWarning)\n",
            "/usr/local/lib/python3.6/dist-packages/sklearn/utils/deprecation.py:144: FutureWarning: The sklearn.neighbors.base module is  deprecated in version 0.22 and will be removed in version 0.24. The corresponding classes / functions should instead be imported from sklearn.neighbors. Anything that cannot be imported from sklearn.neighbors is now part of the private API.\n",
            "  warnings.warn(message, FutureWarning)\n"
          ],
          "name": "stderr"
        }
      ]
    },
    {
      "cell_type": "markdown",
      "metadata": {
        "id": "g5XDTWW5LRVe",
        "colab_type": "text"
      },
      "source": [
        "Para facilitar a aquisição dos dados, criei um *link* com acesso direto ao `csv`. Com isso, basta importar o conjunto de dados usando o método `pd.read_csv()`."
      ]
    },
    {
      "cell_type": "code",
      "metadata": {
        "id": "4NxUOfDOj2j8",
        "colab_type": "code",
        "colab": {}
      },
      "source": [
        "# importar os dados para um dataframe\n",
        "file_path = \"https://www.dropbox.com/s/b44o3t3ehmnx2b7/creditcard.csv?dl=1\"\n",
        "df = pd.read_csv(file_path)"
      ],
      "execution_count": 0,
      "outputs": []
    },
    {
      "cell_type": "markdown",
      "metadata": {
        "id": "yLgotDVSBZca",
        "colab_type": "text"
      },
      "source": [
        "#01 - ANALISE INICIAL\n"
      ]
    },
    {
      "cell_type": "markdown",
      "metadata": {
        "id": "P6XO-YCnFVIo",
        "colab_type": "text"
      },
      "source": [
        "Como primeiro passo, eu custumo analisar com que tipo de `dataset` estou lidando, quais os dados e o tamanho deles, e para isso vamos dar uma explorada e descobrir os **valores**, **colunas** e **tamanho**\n",
        "\n",
        "\n",
        "Para isso utilizaremos os metodo:\n",
        "\n",
        "\n",
        "* `head` para vizualizarmos as primeiras 5 linhas.\n",
        "* `shape` para descobrirmos o tamanho de Entrada e Variaveis.\n",
        "* `dtypes` para descrobrirmos os tipos de dados."
      ]
    },
    {
      "cell_type": "code",
      "metadata": {
        "id": "38RtqgMdvXrg",
        "colab_type": "code",
        "outputId": "1f25be4b-8a37-4ac3-b0eb-3a180e9e20f0",
        "colab": {
          "base_uri": "https://localhost:8080/",
          "height": 224
        }
      },
      "source": [
        "# 5 primeiras entradas do dataset\n",
        "df.head()"
      ],
      "execution_count": 0,
      "outputs": [
        {
          "output_type": "execute_result",
          "data": {
            "text/html": [
              "<div>\n",
              "<style scoped>\n",
              "    .dataframe tbody tr th:only-of-type {\n",
              "        vertical-align: middle;\n",
              "    }\n",
              "\n",
              "    .dataframe tbody tr th {\n",
              "        vertical-align: top;\n",
              "    }\n",
              "\n",
              "    .dataframe thead th {\n",
              "        text-align: right;\n",
              "    }\n",
              "</style>\n",
              "<table border=\"1\" class=\"dataframe\">\n",
              "  <thead>\n",
              "    <tr style=\"text-align: right;\">\n",
              "      <th></th>\n",
              "      <th>Time</th>\n",
              "      <th>V1</th>\n",
              "      <th>V2</th>\n",
              "      <th>V3</th>\n",
              "      <th>V4</th>\n",
              "      <th>V5</th>\n",
              "      <th>V6</th>\n",
              "      <th>V7</th>\n",
              "      <th>V8</th>\n",
              "      <th>V9</th>\n",
              "      <th>V10</th>\n",
              "      <th>V11</th>\n",
              "      <th>V12</th>\n",
              "      <th>V13</th>\n",
              "      <th>V14</th>\n",
              "      <th>V15</th>\n",
              "      <th>V16</th>\n",
              "      <th>V17</th>\n",
              "      <th>V18</th>\n",
              "      <th>V19</th>\n",
              "      <th>V20</th>\n",
              "      <th>V21</th>\n",
              "      <th>V22</th>\n",
              "      <th>V23</th>\n",
              "      <th>V24</th>\n",
              "      <th>V25</th>\n",
              "      <th>V26</th>\n",
              "      <th>V27</th>\n",
              "      <th>V28</th>\n",
              "      <th>Amount</th>\n",
              "      <th>Class</th>\n",
              "    </tr>\n",
              "  </thead>\n",
              "  <tbody>\n",
              "    <tr>\n",
              "      <th>0</th>\n",
              "      <td>0.0</td>\n",
              "      <td>-1.359807</td>\n",
              "      <td>-0.072781</td>\n",
              "      <td>2.536347</td>\n",
              "      <td>1.378155</td>\n",
              "      <td>-0.338321</td>\n",
              "      <td>0.462388</td>\n",
              "      <td>0.239599</td>\n",
              "      <td>0.098698</td>\n",
              "      <td>0.363787</td>\n",
              "      <td>0.090794</td>\n",
              "      <td>-0.551600</td>\n",
              "      <td>-0.617801</td>\n",
              "      <td>-0.991390</td>\n",
              "      <td>-0.311169</td>\n",
              "      <td>1.468177</td>\n",
              "      <td>-0.470401</td>\n",
              "      <td>0.207971</td>\n",
              "      <td>0.025791</td>\n",
              "      <td>0.403993</td>\n",
              "      <td>0.251412</td>\n",
              "      <td>-0.018307</td>\n",
              "      <td>0.277838</td>\n",
              "      <td>-0.110474</td>\n",
              "      <td>0.066928</td>\n",
              "      <td>0.128539</td>\n",
              "      <td>-0.189115</td>\n",
              "      <td>0.133558</td>\n",
              "      <td>-0.021053</td>\n",
              "      <td>149.62</td>\n",
              "      <td>0</td>\n",
              "    </tr>\n",
              "    <tr>\n",
              "      <th>1</th>\n",
              "      <td>0.0</td>\n",
              "      <td>1.191857</td>\n",
              "      <td>0.266151</td>\n",
              "      <td>0.166480</td>\n",
              "      <td>0.448154</td>\n",
              "      <td>0.060018</td>\n",
              "      <td>-0.082361</td>\n",
              "      <td>-0.078803</td>\n",
              "      <td>0.085102</td>\n",
              "      <td>-0.255425</td>\n",
              "      <td>-0.166974</td>\n",
              "      <td>1.612727</td>\n",
              "      <td>1.065235</td>\n",
              "      <td>0.489095</td>\n",
              "      <td>-0.143772</td>\n",
              "      <td>0.635558</td>\n",
              "      <td>0.463917</td>\n",
              "      <td>-0.114805</td>\n",
              "      <td>-0.183361</td>\n",
              "      <td>-0.145783</td>\n",
              "      <td>-0.069083</td>\n",
              "      <td>-0.225775</td>\n",
              "      <td>-0.638672</td>\n",
              "      <td>0.101288</td>\n",
              "      <td>-0.339846</td>\n",
              "      <td>0.167170</td>\n",
              "      <td>0.125895</td>\n",
              "      <td>-0.008983</td>\n",
              "      <td>0.014724</td>\n",
              "      <td>2.69</td>\n",
              "      <td>0</td>\n",
              "    </tr>\n",
              "    <tr>\n",
              "      <th>2</th>\n",
              "      <td>1.0</td>\n",
              "      <td>-1.358354</td>\n",
              "      <td>-1.340163</td>\n",
              "      <td>1.773209</td>\n",
              "      <td>0.379780</td>\n",
              "      <td>-0.503198</td>\n",
              "      <td>1.800499</td>\n",
              "      <td>0.791461</td>\n",
              "      <td>0.247676</td>\n",
              "      <td>-1.514654</td>\n",
              "      <td>0.207643</td>\n",
              "      <td>0.624501</td>\n",
              "      <td>0.066084</td>\n",
              "      <td>0.717293</td>\n",
              "      <td>-0.165946</td>\n",
              "      <td>2.345865</td>\n",
              "      <td>-2.890083</td>\n",
              "      <td>1.109969</td>\n",
              "      <td>-0.121359</td>\n",
              "      <td>-2.261857</td>\n",
              "      <td>0.524980</td>\n",
              "      <td>0.247998</td>\n",
              "      <td>0.771679</td>\n",
              "      <td>0.909412</td>\n",
              "      <td>-0.689281</td>\n",
              "      <td>-0.327642</td>\n",
              "      <td>-0.139097</td>\n",
              "      <td>-0.055353</td>\n",
              "      <td>-0.059752</td>\n",
              "      <td>378.66</td>\n",
              "      <td>0</td>\n",
              "    </tr>\n",
              "    <tr>\n",
              "      <th>3</th>\n",
              "      <td>1.0</td>\n",
              "      <td>-0.966272</td>\n",
              "      <td>-0.185226</td>\n",
              "      <td>1.792993</td>\n",
              "      <td>-0.863291</td>\n",
              "      <td>-0.010309</td>\n",
              "      <td>1.247203</td>\n",
              "      <td>0.237609</td>\n",
              "      <td>0.377436</td>\n",
              "      <td>-1.387024</td>\n",
              "      <td>-0.054952</td>\n",
              "      <td>-0.226487</td>\n",
              "      <td>0.178228</td>\n",
              "      <td>0.507757</td>\n",
              "      <td>-0.287924</td>\n",
              "      <td>-0.631418</td>\n",
              "      <td>-1.059647</td>\n",
              "      <td>-0.684093</td>\n",
              "      <td>1.965775</td>\n",
              "      <td>-1.232622</td>\n",
              "      <td>-0.208038</td>\n",
              "      <td>-0.108300</td>\n",
              "      <td>0.005274</td>\n",
              "      <td>-0.190321</td>\n",
              "      <td>-1.175575</td>\n",
              "      <td>0.647376</td>\n",
              "      <td>-0.221929</td>\n",
              "      <td>0.062723</td>\n",
              "      <td>0.061458</td>\n",
              "      <td>123.50</td>\n",
              "      <td>0</td>\n",
              "    </tr>\n",
              "    <tr>\n",
              "      <th>4</th>\n",
              "      <td>2.0</td>\n",
              "      <td>-1.158233</td>\n",
              "      <td>0.877737</td>\n",
              "      <td>1.548718</td>\n",
              "      <td>0.403034</td>\n",
              "      <td>-0.407193</td>\n",
              "      <td>0.095921</td>\n",
              "      <td>0.592941</td>\n",
              "      <td>-0.270533</td>\n",
              "      <td>0.817739</td>\n",
              "      <td>0.753074</td>\n",
              "      <td>-0.822843</td>\n",
              "      <td>0.538196</td>\n",
              "      <td>1.345852</td>\n",
              "      <td>-1.119670</td>\n",
              "      <td>0.175121</td>\n",
              "      <td>-0.451449</td>\n",
              "      <td>-0.237033</td>\n",
              "      <td>-0.038195</td>\n",
              "      <td>0.803487</td>\n",
              "      <td>0.408542</td>\n",
              "      <td>-0.009431</td>\n",
              "      <td>0.798278</td>\n",
              "      <td>-0.137458</td>\n",
              "      <td>0.141267</td>\n",
              "      <td>-0.206010</td>\n",
              "      <td>0.502292</td>\n",
              "      <td>0.219422</td>\n",
              "      <td>0.215153</td>\n",
              "      <td>69.99</td>\n",
              "      <td>0</td>\n",
              "    </tr>\n",
              "  </tbody>\n",
              "</table>\n",
              "</div>"
            ],
            "text/plain": [
              "   Time        V1        V2        V3  ...       V27       V28  Amount  Class\n",
              "0   0.0 -1.359807 -0.072781  2.536347  ...  0.133558 -0.021053  149.62      0\n",
              "1   0.0  1.191857  0.266151  0.166480  ... -0.008983  0.014724    2.69      0\n",
              "2   1.0 -1.358354 -1.340163  1.773209  ... -0.055353 -0.059752  378.66      0\n",
              "3   1.0 -0.966272 -0.185226  1.792993  ...  0.062723  0.061458  123.50      0\n",
              "4   2.0 -1.158233  0.877737  1.548718  ...  0.219422  0.215153   69.99      0\n",
              "\n",
              "[5 rows x 31 columns]"
            ]
          },
          "metadata": {
            "tags": []
          },
          "execution_count": 18
        }
      ]
    },
    {
      "cell_type": "code",
      "metadata": {
        "id": "WBr4ilI7D5lR",
        "colab_type": "code",
        "outputId": "3e2f7dbf-939e-49b2-c6d7-a44af70633ff",
        "colab": {
          "base_uri": "https://localhost:8080/",
          "height": 629
        }
      },
      "source": [
        "# Tamanho do nosso dataset\n",
        "print(\"Entradas - Linhas :\\t{}\".format(df.shape[0]))\n",
        "print(\"Variaveis - Colunas :\\t{}\\n\".format(df.shape[1]))\n",
        "print(\"---- TIPOS DE DADOS ----\")\n",
        "# Tipos de dados do nosso dataset\n",
        "print(df.dtypes)"
      ],
      "execution_count": 0,
      "outputs": [
        {
          "output_type": "stream",
          "text": [
            "Entradas - Linhas :\t284807\n",
            "Variaveis - Colunas :\t31\n",
            "\n",
            "---- TIPOS DE DADOS ----\n",
            "Time      float64\n",
            "V1        float64\n",
            "V2        float64\n",
            "V3        float64\n",
            "V4        float64\n",
            "V5        float64\n",
            "V6        float64\n",
            "V7        float64\n",
            "V8        float64\n",
            "V9        float64\n",
            "V10       float64\n",
            "V11       float64\n",
            "V12       float64\n",
            "V13       float64\n",
            "V14       float64\n",
            "V15       float64\n",
            "V16       float64\n",
            "V17       float64\n",
            "V18       float64\n",
            "V19       float64\n",
            "V20       float64\n",
            "V21       float64\n",
            "V22       float64\n",
            "V23       float64\n",
            "V24       float64\n",
            "V25       float64\n",
            "V26       float64\n",
            "V27       float64\n",
            "V28       float64\n",
            "Amount    float64\n",
            "Class       int64\n",
            "dtype: object\n"
          ],
          "name": "stdout"
        }
      ]
    },
    {
      "cell_type": "markdown",
      "metadata": {
        "id": "ogQrcg43BfR9",
        "colab_type": "text"
      },
      "source": [
        "#02 - DICIONARIO\n",
        "\n"
      ]
    },
    {
      "cell_type": "markdown",
      "metadata": {
        "id": "prvulaRUIs3I",
        "colab_type": "text"
      },
      "source": [
        "Logo após eu analisar rapidamente meu `dataset`, crio um dicionario para poder saber exatamente para que ser cada tipo de dado, classificando-os em:\n",
        "\n",
        "*  Numericas : chave-primaria, discrestas **int** & continuas **float**.\n",
        "*  Categoricas **string**\n",
        "\n",
        "`- melhor explicação nesse ` [link ](https://support.minitab.com/pt-br/minitab/18/help-and-how-to/modeling-statistics/regression/supporting-topics/basics/what-are-categorical-discrete-and-continuous-variables/)\n",
        "\n",
        "**dicionario do dataset**\n",
        "* NUMERICAS\n",
        "  * Chave primaria\n",
        "    * `/` - ///\n",
        "  * Discretas **int**\n",
        "    * `Class` - Tipo de transação\n",
        "        * Fraude (`Class == 1`)\n",
        "        * Normal (`Class == 0`)\n",
        "  * Continuas **float/double**\n",
        "    * `Time` - Tempo da transação em segundos\n",
        "    * `Amount` - Valor da transação\n",
        "    * `V1 ao V28` - PCA transformation\n",
        "  * Categoricas **string**\n",
        "    * `/` - /// \n",
        "  * Dataset **Tamanho**\n",
        "    * `Entrada` - 284807\n",
        "    * `Variaveis` - 31  "
      ]
    },
    {
      "cell_type": "markdown",
      "metadata": {
        "id": "mlbJU8ZZBj0J",
        "colab_type": "text"
      },
      "source": [
        "#03 - ANALISE EXPLORATORIA"
      ]
    },
    {
      "cell_type": "markdown",
      "metadata": {
        "id": "ByIfYaOFRaWf",
        "colab_type": "text"
      },
      "source": [
        "Agora vamos analisar todo nosso `dataset` para podermos começar a tirar insights dele, *mas que analise devemos fazer ?*. Existem alguns metodos e graficos que podem nos dar um norte.\n",
        "\n",
        "Esses metodos & graficos são:\n",
        "\n",
        "\n",
        "* `describe` para termos um resumo estatistico do dataset.\n",
        "* `isnull` para sabermos se há valores nulos.\n",
        "* `distplot` para plotarmos um grafico e vermos o balanceamento do dataset.\n",
        "* `histplot` para plotarmos um grafico e compararmos as variavel `Time` e `Amount` em coesão a variavel `Class`.\n",
        "* `boxplot` para plotarmos um grafico e descobrirmos se há valores discrepantes.\n",
        "* `heatmap` para plotarmos um grafico e descobrir se há algum correlação entre os dados.\n",
        "* `kdeplot` para idenficar anomalias.\n",
        "\n",
        "Bom, aparentemente esse monte de metodo e plotagem de graficos são apenas informações soltas, certo? Então vamos dar uma logica a tudo isso."
      ]
    },
    {
      "cell_type": "markdown",
      "metadata": {
        "id": "qprGgkZgX9gN",
        "colab_type": "text"
      },
      "source": [
        "**Primero**\n",
        "\n",
        "Vamos ver as informaçoes estatisticas e vermos oque pode estar acontecendo com os dados."
      ]
    },
    {
      "cell_type": "code",
      "metadata": {
        "id": "BoWoK0g_YO3R",
        "colab_type": "code",
        "outputId": "a89bb019-3d84-4e4d-e90d-faec8243ef8b",
        "colab": {
          "base_uri": "https://localhost:8080/",
          "height": 317
        }
      },
      "source": [
        "# Descrição estatistica do dataset\n",
        "df.describe()"
      ],
      "execution_count": 0,
      "outputs": [
        {
          "output_type": "execute_result",
          "data": {
            "text/html": [
              "<div>\n",
              "<style scoped>\n",
              "    .dataframe tbody tr th:only-of-type {\n",
              "        vertical-align: middle;\n",
              "    }\n",
              "\n",
              "    .dataframe tbody tr th {\n",
              "        vertical-align: top;\n",
              "    }\n",
              "\n",
              "    .dataframe thead th {\n",
              "        text-align: right;\n",
              "    }\n",
              "</style>\n",
              "<table border=\"1\" class=\"dataframe\">\n",
              "  <thead>\n",
              "    <tr style=\"text-align: right;\">\n",
              "      <th></th>\n",
              "      <th>Time</th>\n",
              "      <th>V1</th>\n",
              "      <th>V2</th>\n",
              "      <th>V3</th>\n",
              "      <th>V4</th>\n",
              "      <th>V5</th>\n",
              "      <th>V6</th>\n",
              "      <th>V7</th>\n",
              "      <th>V8</th>\n",
              "      <th>V9</th>\n",
              "      <th>V10</th>\n",
              "      <th>V11</th>\n",
              "      <th>V12</th>\n",
              "      <th>V13</th>\n",
              "      <th>V14</th>\n",
              "      <th>V15</th>\n",
              "      <th>V16</th>\n",
              "      <th>V17</th>\n",
              "      <th>V18</th>\n",
              "      <th>V19</th>\n",
              "      <th>V20</th>\n",
              "      <th>V21</th>\n",
              "      <th>V22</th>\n",
              "      <th>V23</th>\n",
              "      <th>V24</th>\n",
              "      <th>V25</th>\n",
              "      <th>V26</th>\n",
              "      <th>V27</th>\n",
              "      <th>V28</th>\n",
              "      <th>Amount</th>\n",
              "      <th>Class</th>\n",
              "    </tr>\n",
              "  </thead>\n",
              "  <tbody>\n",
              "    <tr>\n",
              "      <th>count</th>\n",
              "      <td>284807.000000</td>\n",
              "      <td>2.848070e+05</td>\n",
              "      <td>2.848070e+05</td>\n",
              "      <td>2.848070e+05</td>\n",
              "      <td>2.848070e+05</td>\n",
              "      <td>2.848070e+05</td>\n",
              "      <td>2.848070e+05</td>\n",
              "      <td>2.848070e+05</td>\n",
              "      <td>2.848070e+05</td>\n",
              "      <td>2.848070e+05</td>\n",
              "      <td>2.848070e+05</td>\n",
              "      <td>2.848070e+05</td>\n",
              "      <td>2.848070e+05</td>\n",
              "      <td>2.848070e+05</td>\n",
              "      <td>2.848070e+05</td>\n",
              "      <td>2.848070e+05</td>\n",
              "      <td>2.848070e+05</td>\n",
              "      <td>2.848070e+05</td>\n",
              "      <td>2.848070e+05</td>\n",
              "      <td>2.848070e+05</td>\n",
              "      <td>2.848070e+05</td>\n",
              "      <td>2.848070e+05</td>\n",
              "      <td>2.848070e+05</td>\n",
              "      <td>2.848070e+05</td>\n",
              "      <td>2.848070e+05</td>\n",
              "      <td>2.848070e+05</td>\n",
              "      <td>2.848070e+05</td>\n",
              "      <td>2.848070e+05</td>\n",
              "      <td>2.848070e+05</td>\n",
              "      <td>284807.000000</td>\n",
              "      <td>284807.000000</td>\n",
              "    </tr>\n",
              "    <tr>\n",
              "      <th>mean</th>\n",
              "      <td>94813.859575</td>\n",
              "      <td>3.919560e-15</td>\n",
              "      <td>5.688174e-16</td>\n",
              "      <td>-8.769071e-15</td>\n",
              "      <td>2.782312e-15</td>\n",
              "      <td>-1.552563e-15</td>\n",
              "      <td>2.010663e-15</td>\n",
              "      <td>-1.694249e-15</td>\n",
              "      <td>-1.927028e-16</td>\n",
              "      <td>-3.137024e-15</td>\n",
              "      <td>1.768627e-15</td>\n",
              "      <td>9.170318e-16</td>\n",
              "      <td>-1.810658e-15</td>\n",
              "      <td>1.693438e-15</td>\n",
              "      <td>1.479045e-15</td>\n",
              "      <td>3.482336e-15</td>\n",
              "      <td>1.392007e-15</td>\n",
              "      <td>-7.528491e-16</td>\n",
              "      <td>4.328772e-16</td>\n",
              "      <td>9.049732e-16</td>\n",
              "      <td>5.085503e-16</td>\n",
              "      <td>1.537294e-16</td>\n",
              "      <td>7.959909e-16</td>\n",
              "      <td>5.367590e-16</td>\n",
              "      <td>4.458112e-15</td>\n",
              "      <td>1.453003e-15</td>\n",
              "      <td>1.699104e-15</td>\n",
              "      <td>-3.660161e-16</td>\n",
              "      <td>-1.206049e-16</td>\n",
              "      <td>88.349619</td>\n",
              "      <td>0.001727</td>\n",
              "    </tr>\n",
              "    <tr>\n",
              "      <th>std</th>\n",
              "      <td>47488.145955</td>\n",
              "      <td>1.958696e+00</td>\n",
              "      <td>1.651309e+00</td>\n",
              "      <td>1.516255e+00</td>\n",
              "      <td>1.415869e+00</td>\n",
              "      <td>1.380247e+00</td>\n",
              "      <td>1.332271e+00</td>\n",
              "      <td>1.237094e+00</td>\n",
              "      <td>1.194353e+00</td>\n",
              "      <td>1.098632e+00</td>\n",
              "      <td>1.088850e+00</td>\n",
              "      <td>1.020713e+00</td>\n",
              "      <td>9.992014e-01</td>\n",
              "      <td>9.952742e-01</td>\n",
              "      <td>9.585956e-01</td>\n",
              "      <td>9.153160e-01</td>\n",
              "      <td>8.762529e-01</td>\n",
              "      <td>8.493371e-01</td>\n",
              "      <td>8.381762e-01</td>\n",
              "      <td>8.140405e-01</td>\n",
              "      <td>7.709250e-01</td>\n",
              "      <td>7.345240e-01</td>\n",
              "      <td>7.257016e-01</td>\n",
              "      <td>6.244603e-01</td>\n",
              "      <td>6.056471e-01</td>\n",
              "      <td>5.212781e-01</td>\n",
              "      <td>4.822270e-01</td>\n",
              "      <td>4.036325e-01</td>\n",
              "      <td>3.300833e-01</td>\n",
              "      <td>250.120109</td>\n",
              "      <td>0.041527</td>\n",
              "    </tr>\n",
              "    <tr>\n",
              "      <th>min</th>\n",
              "      <td>0.000000</td>\n",
              "      <td>-5.640751e+01</td>\n",
              "      <td>-7.271573e+01</td>\n",
              "      <td>-4.832559e+01</td>\n",
              "      <td>-5.683171e+00</td>\n",
              "      <td>-1.137433e+02</td>\n",
              "      <td>-2.616051e+01</td>\n",
              "      <td>-4.355724e+01</td>\n",
              "      <td>-7.321672e+01</td>\n",
              "      <td>-1.343407e+01</td>\n",
              "      <td>-2.458826e+01</td>\n",
              "      <td>-4.797473e+00</td>\n",
              "      <td>-1.868371e+01</td>\n",
              "      <td>-5.791881e+00</td>\n",
              "      <td>-1.921433e+01</td>\n",
              "      <td>-4.498945e+00</td>\n",
              "      <td>-1.412985e+01</td>\n",
              "      <td>-2.516280e+01</td>\n",
              "      <td>-9.498746e+00</td>\n",
              "      <td>-7.213527e+00</td>\n",
              "      <td>-5.449772e+01</td>\n",
              "      <td>-3.483038e+01</td>\n",
              "      <td>-1.093314e+01</td>\n",
              "      <td>-4.480774e+01</td>\n",
              "      <td>-2.836627e+00</td>\n",
              "      <td>-1.029540e+01</td>\n",
              "      <td>-2.604551e+00</td>\n",
              "      <td>-2.256568e+01</td>\n",
              "      <td>-1.543008e+01</td>\n",
              "      <td>0.000000</td>\n",
              "      <td>0.000000</td>\n",
              "    </tr>\n",
              "    <tr>\n",
              "      <th>25%</th>\n",
              "      <td>54201.500000</td>\n",
              "      <td>-9.203734e-01</td>\n",
              "      <td>-5.985499e-01</td>\n",
              "      <td>-8.903648e-01</td>\n",
              "      <td>-8.486401e-01</td>\n",
              "      <td>-6.915971e-01</td>\n",
              "      <td>-7.682956e-01</td>\n",
              "      <td>-5.540759e-01</td>\n",
              "      <td>-2.086297e-01</td>\n",
              "      <td>-6.430976e-01</td>\n",
              "      <td>-5.354257e-01</td>\n",
              "      <td>-7.624942e-01</td>\n",
              "      <td>-4.055715e-01</td>\n",
              "      <td>-6.485393e-01</td>\n",
              "      <td>-4.255740e-01</td>\n",
              "      <td>-5.828843e-01</td>\n",
              "      <td>-4.680368e-01</td>\n",
              "      <td>-4.837483e-01</td>\n",
              "      <td>-4.988498e-01</td>\n",
              "      <td>-4.562989e-01</td>\n",
              "      <td>-2.117214e-01</td>\n",
              "      <td>-2.283949e-01</td>\n",
              "      <td>-5.423504e-01</td>\n",
              "      <td>-1.618463e-01</td>\n",
              "      <td>-3.545861e-01</td>\n",
              "      <td>-3.171451e-01</td>\n",
              "      <td>-3.269839e-01</td>\n",
              "      <td>-7.083953e-02</td>\n",
              "      <td>-5.295979e-02</td>\n",
              "      <td>5.600000</td>\n",
              "      <td>0.000000</td>\n",
              "    </tr>\n",
              "    <tr>\n",
              "      <th>50%</th>\n",
              "      <td>84692.000000</td>\n",
              "      <td>1.810880e-02</td>\n",
              "      <td>6.548556e-02</td>\n",
              "      <td>1.798463e-01</td>\n",
              "      <td>-1.984653e-02</td>\n",
              "      <td>-5.433583e-02</td>\n",
              "      <td>-2.741871e-01</td>\n",
              "      <td>4.010308e-02</td>\n",
              "      <td>2.235804e-02</td>\n",
              "      <td>-5.142873e-02</td>\n",
              "      <td>-9.291738e-02</td>\n",
              "      <td>-3.275735e-02</td>\n",
              "      <td>1.400326e-01</td>\n",
              "      <td>-1.356806e-02</td>\n",
              "      <td>5.060132e-02</td>\n",
              "      <td>4.807155e-02</td>\n",
              "      <td>6.641332e-02</td>\n",
              "      <td>-6.567575e-02</td>\n",
              "      <td>-3.636312e-03</td>\n",
              "      <td>3.734823e-03</td>\n",
              "      <td>-6.248109e-02</td>\n",
              "      <td>-2.945017e-02</td>\n",
              "      <td>6.781943e-03</td>\n",
              "      <td>-1.119293e-02</td>\n",
              "      <td>4.097606e-02</td>\n",
              "      <td>1.659350e-02</td>\n",
              "      <td>-5.213911e-02</td>\n",
              "      <td>1.342146e-03</td>\n",
              "      <td>1.124383e-02</td>\n",
              "      <td>22.000000</td>\n",
              "      <td>0.000000</td>\n",
              "    </tr>\n",
              "    <tr>\n",
              "      <th>75%</th>\n",
              "      <td>139320.500000</td>\n",
              "      <td>1.315642e+00</td>\n",
              "      <td>8.037239e-01</td>\n",
              "      <td>1.027196e+00</td>\n",
              "      <td>7.433413e-01</td>\n",
              "      <td>6.119264e-01</td>\n",
              "      <td>3.985649e-01</td>\n",
              "      <td>5.704361e-01</td>\n",
              "      <td>3.273459e-01</td>\n",
              "      <td>5.971390e-01</td>\n",
              "      <td>4.539234e-01</td>\n",
              "      <td>7.395934e-01</td>\n",
              "      <td>6.182380e-01</td>\n",
              "      <td>6.625050e-01</td>\n",
              "      <td>4.931498e-01</td>\n",
              "      <td>6.488208e-01</td>\n",
              "      <td>5.232963e-01</td>\n",
              "      <td>3.996750e-01</td>\n",
              "      <td>5.008067e-01</td>\n",
              "      <td>4.589494e-01</td>\n",
              "      <td>1.330408e-01</td>\n",
              "      <td>1.863772e-01</td>\n",
              "      <td>5.285536e-01</td>\n",
              "      <td>1.476421e-01</td>\n",
              "      <td>4.395266e-01</td>\n",
              "      <td>3.507156e-01</td>\n",
              "      <td>2.409522e-01</td>\n",
              "      <td>9.104512e-02</td>\n",
              "      <td>7.827995e-02</td>\n",
              "      <td>77.165000</td>\n",
              "      <td>0.000000</td>\n",
              "    </tr>\n",
              "    <tr>\n",
              "      <th>max</th>\n",
              "      <td>172792.000000</td>\n",
              "      <td>2.454930e+00</td>\n",
              "      <td>2.205773e+01</td>\n",
              "      <td>9.382558e+00</td>\n",
              "      <td>1.687534e+01</td>\n",
              "      <td>3.480167e+01</td>\n",
              "      <td>7.330163e+01</td>\n",
              "      <td>1.205895e+02</td>\n",
              "      <td>2.000721e+01</td>\n",
              "      <td>1.559499e+01</td>\n",
              "      <td>2.374514e+01</td>\n",
              "      <td>1.201891e+01</td>\n",
              "      <td>7.848392e+00</td>\n",
              "      <td>7.126883e+00</td>\n",
              "      <td>1.052677e+01</td>\n",
              "      <td>8.877742e+00</td>\n",
              "      <td>1.731511e+01</td>\n",
              "      <td>9.253526e+00</td>\n",
              "      <td>5.041069e+00</td>\n",
              "      <td>5.591971e+00</td>\n",
              "      <td>3.942090e+01</td>\n",
              "      <td>2.720284e+01</td>\n",
              "      <td>1.050309e+01</td>\n",
              "      <td>2.252841e+01</td>\n",
              "      <td>4.584549e+00</td>\n",
              "      <td>7.519589e+00</td>\n",
              "      <td>3.517346e+00</td>\n",
              "      <td>3.161220e+01</td>\n",
              "      <td>3.384781e+01</td>\n",
              "      <td>25691.160000</td>\n",
              "      <td>1.000000</td>\n",
              "    </tr>\n",
              "  </tbody>\n",
              "</table>\n",
              "</div>"
            ],
            "text/plain": [
              "                Time            V1  ...         Amount          Class\n",
              "count  284807.000000  2.848070e+05  ...  284807.000000  284807.000000\n",
              "mean    94813.859575  3.919560e-15  ...      88.349619       0.001727\n",
              "std     47488.145955  1.958696e+00  ...     250.120109       0.041527\n",
              "min         0.000000 -5.640751e+01  ...       0.000000       0.000000\n",
              "25%     54201.500000 -9.203734e-01  ...       5.600000       0.000000\n",
              "50%     84692.000000  1.810880e-02  ...      22.000000       0.000000\n",
              "75%    139320.500000  1.315642e+00  ...      77.165000       0.000000\n",
              "max    172792.000000  2.454930e+00  ...   25691.160000       1.000000\n",
              "\n",
              "[8 rows x 31 columns]"
            ]
          },
          "metadata": {
            "tags": []
          },
          "execution_count": 31
        }
      ]
    },
    {
      "cell_type": "markdown",
      "metadata": {
        "id": "F4ovlDzZYW-y",
        "colab_type": "text"
      },
      "source": [
        "Huun .. Aparentimente há um monte de informação que talvez não me seja util no momento, então vamos dar uma penerada e pegarmos aqueles que possa, me dar algum informação util.\n",
        "\n",
        "Então vamos escolher a variavel `Amount` e `Class`.\n",
        "\n",
        "Obs.: Aparentemente o `Time` tem informaçoes relevantes, mas ele representa apenas o tempo de cada transação feita, então podemos descartalo neste momento."
      ]
    },
    {
      "cell_type": "code",
      "metadata": {
        "id": "Mx9F-P85YWYh",
        "colab_type": "code",
        "outputId": "2d50ec6c-a050-4e99-b8f3-7dac914c5d22",
        "colab": {
          "base_uri": "https://localhost:8080/",
          "height": 297
        }
      },
      "source": [
        "# Descrição estatistica de Time, Amount e Class\n",
        "\n",
        "df[['Amount','Class']].describe()"
      ],
      "execution_count": 0,
      "outputs": [
        {
          "output_type": "execute_result",
          "data": {
            "text/html": [
              "<div>\n",
              "<style scoped>\n",
              "    .dataframe tbody tr th:only-of-type {\n",
              "        vertical-align: middle;\n",
              "    }\n",
              "\n",
              "    .dataframe tbody tr th {\n",
              "        vertical-align: top;\n",
              "    }\n",
              "\n",
              "    .dataframe thead th {\n",
              "        text-align: right;\n",
              "    }\n",
              "</style>\n",
              "<table border=\"1\" class=\"dataframe\">\n",
              "  <thead>\n",
              "    <tr style=\"text-align: right;\">\n",
              "      <th></th>\n",
              "      <th>Amount</th>\n",
              "      <th>Class</th>\n",
              "    </tr>\n",
              "  </thead>\n",
              "  <tbody>\n",
              "    <tr>\n",
              "      <th>count</th>\n",
              "      <td>284807.000000</td>\n",
              "      <td>284807.000000</td>\n",
              "    </tr>\n",
              "    <tr>\n",
              "      <th>mean</th>\n",
              "      <td>88.349619</td>\n",
              "      <td>0.001727</td>\n",
              "    </tr>\n",
              "    <tr>\n",
              "      <th>std</th>\n",
              "      <td>250.120109</td>\n",
              "      <td>0.041527</td>\n",
              "    </tr>\n",
              "    <tr>\n",
              "      <th>min</th>\n",
              "      <td>0.000000</td>\n",
              "      <td>0.000000</td>\n",
              "    </tr>\n",
              "    <tr>\n",
              "      <th>25%</th>\n",
              "      <td>5.600000</td>\n",
              "      <td>0.000000</td>\n",
              "    </tr>\n",
              "    <tr>\n",
              "      <th>50%</th>\n",
              "      <td>22.000000</td>\n",
              "      <td>0.000000</td>\n",
              "    </tr>\n",
              "    <tr>\n",
              "      <th>75%</th>\n",
              "      <td>77.165000</td>\n",
              "      <td>0.000000</td>\n",
              "    </tr>\n",
              "    <tr>\n",
              "      <th>max</th>\n",
              "      <td>25691.160000</td>\n",
              "      <td>1.000000</td>\n",
              "    </tr>\n",
              "  </tbody>\n",
              "</table>\n",
              "</div>"
            ],
            "text/plain": [
              "              Amount          Class\n",
              "count  284807.000000  284807.000000\n",
              "mean       88.349619       0.001727\n",
              "std       250.120109       0.041527\n",
              "min         0.000000       0.000000\n",
              "25%         5.600000       0.000000\n",
              "50%        22.000000       0.000000\n",
              "75%        77.165000       0.000000\n",
              "max     25691.160000       1.000000"
            ]
          },
          "metadata": {
            "tags": []
          },
          "execution_count": 34
        }
      ]
    },
    {
      "cell_type": "markdown",
      "metadata": {
        "id": "mMLYSYOhb3GF",
        "colab_type": "text"
      },
      "source": [
        "**uma descrição rapida para melhor entendimento**\n",
        "* **count** - quantidade de entradas válidas\n",
        "* **mean** - média dos valores\n",
        "* **std** - desvio padrão\n",
        "* **min** - menor valor da coluna\n",
        "* **25%** - percentil 25\n",
        "* **50%** - percentil 50 (e mediana)\n",
        "* **75%** - percentil 75\n",
        "* **max** - maior valor da coluna"
      ]
    },
    {
      "cell_type": "markdown",
      "metadata": {
        "id": "pxm4t9nPc6ka",
        "colab_type": "text"
      },
      "source": [
        "Bom se percebermos na coluna (variavel) `Amount`, o valor medio de compra é de 88.34 euros mas seu desvio padrão é de 250.120 , e sua compra mais cara foi de 25691 euros\n",
        "\n",
        "Geralmente esse desvio padrão alto seria como se tivessemos um restarante\n",
        "e o valores de cada prato seria: 10, 2000, 40, 300, 25691, bem quebrado esses valores, não é mesmo? então essa media não parece tão concreta, porém, como se trata de valores de **compras** de qualquer coisa, sem restriçoes, então era esperado essa discrepancia, pelo menos inicialmente. Mas como estamos tratando de valores que podem ter sido fraudulentos, vamos analisar essa estatistica de forma diferente."
      ]
    },
    {
      "cell_type": "markdown",
      "metadata": {
        "id": "d6yuqUFVgbtK",
        "colab_type": "text"
      },
      "source": [
        "**Resumo estatistico da Quantidade em relação a compras sem fraudes = 0**\n"
      ]
    },
    {
      "cell_type": "code",
      "metadata": {
        "id": "eidzc8z3gw1W",
        "colab_type": "code",
        "outputId": "34d99765-5a40-4907-c3cc-1f5d3c16f472",
        "colab": {
          "base_uri": "https://localhost:8080/",
          "height": 297
        }
      },
      "source": [
        "###############\n",
        "df[['Amount','Class']][df['Class'] == 0].describe()"
      ],
      "execution_count": 0,
      "outputs": [
        {
          "output_type": "execute_result",
          "data": {
            "text/html": [
              "<div>\n",
              "<style scoped>\n",
              "    .dataframe tbody tr th:only-of-type {\n",
              "        vertical-align: middle;\n",
              "    }\n",
              "\n",
              "    .dataframe tbody tr th {\n",
              "        vertical-align: top;\n",
              "    }\n",
              "\n",
              "    .dataframe thead th {\n",
              "        text-align: right;\n",
              "    }\n",
              "</style>\n",
              "<table border=\"1\" class=\"dataframe\">\n",
              "  <thead>\n",
              "    <tr style=\"text-align: right;\">\n",
              "      <th></th>\n",
              "      <th>Amount</th>\n",
              "      <th>Class</th>\n",
              "    </tr>\n",
              "  </thead>\n",
              "  <tbody>\n",
              "    <tr>\n",
              "      <th>count</th>\n",
              "      <td>284315.000000</td>\n",
              "      <td>284315.0</td>\n",
              "    </tr>\n",
              "    <tr>\n",
              "      <th>mean</th>\n",
              "      <td>88.291022</td>\n",
              "      <td>0.0</td>\n",
              "    </tr>\n",
              "    <tr>\n",
              "      <th>std</th>\n",
              "      <td>250.105092</td>\n",
              "      <td>0.0</td>\n",
              "    </tr>\n",
              "    <tr>\n",
              "      <th>min</th>\n",
              "      <td>0.000000</td>\n",
              "      <td>0.0</td>\n",
              "    </tr>\n",
              "    <tr>\n",
              "      <th>25%</th>\n",
              "      <td>5.650000</td>\n",
              "      <td>0.0</td>\n",
              "    </tr>\n",
              "    <tr>\n",
              "      <th>50%</th>\n",
              "      <td>22.000000</td>\n",
              "      <td>0.0</td>\n",
              "    </tr>\n",
              "    <tr>\n",
              "      <th>75%</th>\n",
              "      <td>77.050000</td>\n",
              "      <td>0.0</td>\n",
              "    </tr>\n",
              "    <tr>\n",
              "      <th>max</th>\n",
              "      <td>25691.160000</td>\n",
              "      <td>0.0</td>\n",
              "    </tr>\n",
              "  </tbody>\n",
              "</table>\n",
              "</div>"
            ],
            "text/plain": [
              "              Amount     Class\n",
              "count  284315.000000  284315.0\n",
              "mean       88.291022       0.0\n",
              "std       250.105092       0.0\n",
              "min         0.000000       0.0\n",
              "25%         5.650000       0.0\n",
              "50%        22.000000       0.0\n",
              "75%        77.050000       0.0\n",
              "max     25691.160000       0.0"
            ]
          },
          "metadata": {
            "tags": []
          },
          "execution_count": 38
        }
      ]
    },
    {
      "cell_type": "markdown",
      "metadata": {
        "id": "BbylltEAigAA",
        "colab_type": "text"
      },
      "source": [
        "Aparentimente os resumos estatisticos de compras **sem fraudes** e o resumo **estatico geral** são bem semelhantes, isso se leva em consideração, pois a porcentagem de compras normais é muito maior do que compras fraudulentas, como visto logo abaixo. "
      ]
    },
    {
      "cell_type": "code",
      "metadata": {
        "id": "AJGMGyvsjSLX",
        "colab_type": "code",
        "outputId": "23214ba4-e9e7-4177-b745-13e3322b5260",
        "colab": {
          "base_uri": "https://localhost:8080/",
          "height": 136
        }
      },
      "source": [
        "# Verificando o balanceamento das classes\n",
        "sz = df.Class.value_counts() / df.Amount.count()\n",
        "print(\"TOTAL DE COMPRAS:           \\t{:0.0000f}\".format(df.Amount.count()))\n",
        "print(\"COMPRAS NORMAIS    - 0: QTD \\t{} - PERCENTUAL \\t{:0.1f}%\".format(df.Class.value_counts()[0],sz.values[0] / sz.sum() * 100))\n",
        "print(\"COMPRAS COM FRAUDE - 1: QTD\\t{}    - PERCENTUAL  \\t{:0.1f}%\\n\".format(df.Class.value_counts()[1], sz.values[1] / sz.sum()* 100))\n"
      ],
      "execution_count": 0,
      "outputs": [
        {
          "output_type": "display_data",
          "data": {
            "text/plain": [
              "0    0.998273\n",
              "1    0.001727\n",
              "Name: Class, dtype: float64"
            ]
          },
          "metadata": {
            "tags": []
          }
        },
        {
          "output_type": "stream",
          "text": [
            "TOTAL DE COMPRAS:           \t284807\n",
            "COMPRAS NORMAIS    - 0: QTD \t284315 - PERCENTUAL \t99.8%\n",
            "COMPRAS COM FRAUDE - 1: QTD\t492    - PERCENTUAL  \t0.2%\n",
            "\n"
          ],
          "name": "stdout"
        }
      ]
    },
    {
      "cell_type": "markdown",
      "metadata": {
        "id": "RyaBfw-4uHpb",
        "colab_type": "text"
      },
      "source": [
        "Como vemos compras **normais** tem controle quase total, mas vamos continuar analisando."
      ]
    },
    {
      "cell_type": "code",
      "metadata": {
        "id": "f8QY9Hp0BaWg",
        "colab_type": "code",
        "outputId": "44cc4253-e431-4fd9-c3e0-4fb3ab82b9fe",
        "colab": {
          "base_uri": "https://localhost:8080/",
          "height": 297
        }
      },
      "source": [
        "#Plotando grafico de barras para classes\n",
        "fig, ax = plt.subplots()\n",
        "sns.countplot('Class', data=df, ax=ax, palette='winter')\n",
        "ax.set_title('Distribuição das Classes')\n",
        "plt.tight_layout()"
      ],
      "execution_count": 180,
      "outputs": [
        {
          "output_type": "display_data",
          "data": {
            "image/png": "[encoded data removed]",
            "text/plain": [
              "<Figure size 432x288 with 1 Axes>"
            ]
          },
          "metadata": {
            "tags": []
          }
        }
      ]
    },
    {
      "cell_type": "markdown",
      "metadata": {
        "id": "1XtgPgNZiN1H",
        "colab_type": "text"
      },
      "source": [
        "**Resumo estatistico da Quantidade em relação a compras sem fraudes = 1**"
      ]
    },
    {
      "cell_type": "code",
      "metadata": {
        "id": "KbshnHj32C9w",
        "colab_type": "code",
        "outputId": "7dbf79e8-be87-4b3a-f686-490de36c44be",
        "colab": {
          "base_uri": "https://localhost:8080/",
          "height": 297
        }
      },
      "source": [
        "#resumo estatistico\n",
        "df[['Amount','Class']][df['Class']== 1].describe()"
      ],
      "execution_count": 0,
      "outputs": [
        {
          "output_type": "execute_result",
          "data": {
            "text/html": [
              "<div>\n",
              "<style scoped>\n",
              "    .dataframe tbody tr th:only-of-type {\n",
              "        vertical-align: middle;\n",
              "    }\n",
              "\n",
              "    .dataframe tbody tr th {\n",
              "        vertical-align: top;\n",
              "    }\n",
              "\n",
              "    .dataframe thead th {\n",
              "        text-align: right;\n",
              "    }\n",
              "</style>\n",
              "<table border=\"1\" class=\"dataframe\">\n",
              "  <thead>\n",
              "    <tr style=\"text-align: right;\">\n",
              "      <th></th>\n",
              "      <th>Amount</th>\n",
              "      <th>Class</th>\n",
              "    </tr>\n",
              "  </thead>\n",
              "  <tbody>\n",
              "    <tr>\n",
              "      <th>count</th>\n",
              "      <td>492.000000</td>\n",
              "      <td>492.0</td>\n",
              "    </tr>\n",
              "    <tr>\n",
              "      <th>mean</th>\n",
              "      <td>122.211321</td>\n",
              "      <td>1.0</td>\n",
              "    </tr>\n",
              "    <tr>\n",
              "      <th>std</th>\n",
              "      <td>256.683288</td>\n",
              "      <td>0.0</td>\n",
              "    </tr>\n",
              "    <tr>\n",
              "      <th>min</th>\n",
              "      <td>0.000000</td>\n",
              "      <td>1.0</td>\n",
              "    </tr>\n",
              "    <tr>\n",
              "      <th>25%</th>\n",
              "      <td>1.000000</td>\n",
              "      <td>1.0</td>\n",
              "    </tr>\n",
              "    <tr>\n",
              "      <th>50%</th>\n",
              "      <td>9.250000</td>\n",
              "      <td>1.0</td>\n",
              "    </tr>\n",
              "    <tr>\n",
              "      <th>75%</th>\n",
              "      <td>105.890000</td>\n",
              "      <td>1.0</td>\n",
              "    </tr>\n",
              "    <tr>\n",
              "      <th>max</th>\n",
              "      <td>2125.870000</td>\n",
              "      <td>1.0</td>\n",
              "    </tr>\n",
              "  </tbody>\n",
              "</table>\n",
              "</div>"
            ],
            "text/plain": [
              "            Amount  Class\n",
              "count   492.000000  492.0\n",
              "mean    122.211321    1.0\n",
              "std     256.683288    0.0\n",
              "min       0.000000    1.0\n",
              "25%       1.000000    1.0\n",
              "50%       9.250000    1.0\n",
              "75%     105.890000    1.0\n",
              "max    2125.870000    1.0"
            ]
          },
          "metadata": {
            "tags": []
          },
          "execution_count": 161
        }
      ]
    },
    {
      "cell_type": "markdown",
      "metadata": {
        "id": "XqdjWWch5p7x",
        "colab_type": "text"
      },
      "source": [
        "Bom, aqui vemos que compras fraudulentas geralmente tem um valor baixo, 50% das compras realizadas é apenas de 9 euros, e reparando novamente que a media não é condizente."
      ]
    },
    {
      "cell_type": "code",
      "metadata": {
        "id": "Jlfv7JNhE6EF",
        "colab_type": "code",
        "outputId": "8f17dd63-a5b0-4428-a3d6-d6d3b4871f4e",
        "colab": {
          "base_uri": "https://localhost:8080/",
          "height": 513
        }
      },
      "source": [
        "#Plotando grafico de histograma\n",
        "fig, ax = plt.subplots(nrows=2, ncols=1, figsize=(16,7))\n",
        "\n",
        "num_bins = 40\n",
        "\n",
        "ax[0].hist(df.Time[df.Class == 0], bins=num_bins, color='springgreen')\n",
        "ax[0].set_title('Normal')\n",
        "\n",
        "ax[1].hist(df.Time[df.Class == 1], bins=num_bins, color='royalblue')\n",
        "ax[1].set_title('Fraude')\n",
        "plt.xlabel('Tempo (segundos)')\n",
        "plt.ylabel('Transações')\n",
        "plt.tight_layout()"
      ],
      "execution_count": 185,
      "outputs": [
        {
          "output_type": "display_data",
          "data": {
            "image/png": "[encoded data removed]",
            "text/plain": [
              "<Figure size 1152x504 with 2 Axes>"
            ]
          },
          "metadata": {
            "tags": []
          }
        }
      ]
    },
    {
      "cell_type": "markdown",
      "metadata": {
        "id": "GmlBE8gc6dE0",
        "colab_type": "text"
      },
      "source": [
        "**Primeiro - Conclusão**\n",
        "\n",
        "* `Compras Normais`\n",
        "\n",
        "Possuim a maior parte dos dados, com 99,8%, possuim alguns dados com ruidos então a media pode distorcer.\n",
        "\n",
        "* `Compras com Fraude`\n",
        "\n",
        "Não muitas compras fraudulentas, apenas 0,02%, mas conseguimos perceber que elas possuim um valor de compra, \"fora do radas\", o que facilita a fraude, pois geralmente nós compradores não temos o costume de lembrar coisas relativamente \"baratas\"."
      ]
    },
    {
      "cell_type": "markdown",
      "metadata": {
        "id": "doA7ESW__HsA",
        "colab_type": "text"
      },
      "source": [
        "**Segundo**\n",
        "\n",
        "Continuaremos analisando a variavel `Class`, e nesse cenario vamos utilizar o metodo `boxplot` para sabermos como nossa variavel `Amount` esta distribuida.\n"
      ]
    },
    {
      "cell_type": "code",
      "metadata": {
        "id": "HbIE609mGkZi",
        "colab_type": "code",
        "outputId": "ec0bde09-de88-4e44-e7a1-6552ee8f7eae",
        "colab": {
          "base_uri": "https://localhost:8080/",
          "height": 873
        }
      },
      "source": [
        "#Plotando boxplot\n",
        "fig, ax = plt.subplots(figsize=(6,12), sharex=True)\n",
        "\n",
        "sns.boxplot(df.Class, df.Amount, showmeans=True, ax=ax, palette='winter')\n",
        "plt.ylim((-20, 400))\n",
        "plt.xticks([0, 1], ['Normal', 'Fraude'])\n",
        "plt.tight_layout()"
      ],
      "execution_count": 178,
      "outputs": [
        {
          "output_type": "display_data",
          "data": {
            "image/png": "[encoded data removed]",
            "text/plain": [
              "<Figure size 432x864 with 1 Axes>"
            ]
          },
          "metadata": {
            "tags": []
          }
        }
      ]
    },
    {
      "cell_type": "markdown",
      "metadata": {
        "id": "IsNNWFm79Wvm",
        "colab_type": "text"
      },
      "source": [
        "**Terceiro**\n",
        "\n",
        "Agora na terceira parte iremos ver se há algum valor faltante em nosso dataset, pois isso pode prejudicar nossa consideração final, e como foi mostrado logo acima vamos utilizar o metodo `isnull` para verificar isso."
      ]
    },
    {
      "cell_type": "code",
      "metadata": {
        "id": "zOO3SOpM9zoR",
        "colab_type": "code",
        "outputId": "e2b655f1-a4ac-4861-b9df-18d110f943ef",
        "colab": {
          "base_uri": "https://localhost:8080/",
          "height": 561
        }
      },
      "source": [
        "#Verificando se há valores ausentes no dataset \n",
        "df.isnull().sum().sort_values(ascending=False)"
      ],
      "execution_count": 0,
      "outputs": [
        {
          "output_type": "execute_result",
          "data": {
            "text/plain": [
              "Class     0\n",
              "V14       0\n",
              "V1        0\n",
              "V2        0\n",
              "V3        0\n",
              "V4        0\n",
              "V5        0\n",
              "V6        0\n",
              "V7        0\n",
              "V8        0\n",
              "V9        0\n",
              "V10       0\n",
              "V11       0\n",
              "V12       0\n",
              "V13       0\n",
              "V15       0\n",
              "Amount    0\n",
              "V16       0\n",
              "V17       0\n",
              "V18       0\n",
              "V19       0\n",
              "V20       0\n",
              "V21       0\n",
              "V22       0\n",
              "V23       0\n",
              "V24       0\n",
              "V25       0\n",
              "V26       0\n",
              "V27       0\n",
              "V28       0\n",
              "Time      0\n",
              "dtype: int64"
            ]
          },
          "metadata": {
            "tags": []
          },
          "execution_count": 168
        }
      ]
    },
    {
      "cell_type": "markdown",
      "metadata": {
        "id": "-_H3XRKy--5L",
        "colab_type": "text"
      },
      "source": [
        "**Terceiro - Conclusão**\n",
        "\n",
        "Não há valores ausentes, então com isso podemos eliminar uma preocupação :)\n"
      ]
    },
    {
      "cell_type": "markdown",
      "metadata": {
        "id": "oXJMell71CQd",
        "colab_type": "text"
      },
      "source": [
        "**Quarto**\n",
        "\n",
        "Para analisarmos a distribuição de cada valor da classe `Amount` em referencia as variaveis `Class`, `V1` ao `V28`, vamos utilizar o grafico de densidade `kdeplot`, que nos auxilia a identificar anomalias mais facilmente."
      ]
    },
    {
      "cell_type": "code",
      "metadata": {
        "id": "R7mcpFzK1GV_",
        "colab_type": "code",
        "outputId": "cb378cac-fd15-4529-c5b8-2a41687aaef6",
        "colab": {
          "base_uri": "https://localhost:8080/",
          "height": 945
        }
      },
      "source": [
        "column_names = df.drop(['Class', 'Amount', 'Time'], axis=1).columns\n",
        "num_plots = len(column_names)\n",
        "df_class_0 = df[df.Class == 0]\n",
        "df_class_1 = df[df.Class == 1]\n",
        "\n",
        "fig, ax = plt.subplots(nrows=7, ncols=4, figsize=(18,13))\n",
        "fig.subplots_adjust(hspace=1, wspace=1)\n",
        "\n",
        "idx = 0\n",
        "for col in column_names:\n",
        "    idx += 1\n",
        "    plt.subplot(7, 4, idx)\n",
        "    sns.kdeplot(df_class_0[col], label=\"Normal\", color='green', shade=True)\n",
        "    sns.kdeplot(df_class_1[col], label=\"Fraude\", color='royalblue', shade=True)\n",
        "    plt.title(col, fontsize=10)\n",
        "plt.tight_layout()"
      ],
      "execution_count": 165,
      "outputs": [
        {
          "output_type": "display_data",
          "data": {
            "image/png": "[encoded data removed]",
            "text/plain": [
              "<Figure size 1296x936 with 28 Axes>"
            ]
          },
          "metadata": {
            "tags": []
          }
        }
      ]
    },
    {
      "cell_type": "markdown",
      "metadata": {
        "id": "j0yFeQNi8DYG",
        "colab_type": "text"
      },
      "source": [
        "**Quarto - Conclusão**\n",
        "\n",
        "Conseguimos notar que existem alguns conjuntos de dados que se comportao mais semelhantes perante, como: `V1`, `V5`, `V6`, `V7`, `V8`, `V13`, `V15`, `V20`, `V21`, `V22`, `V23`, `V24`, `V25`, `V26`, `V27` e `V28`.\n",
        "\n",
        "\n",
        "\n",
        "Porém, há algumas que se distinguem, como: `V2`, `V3`, `V4`, `V9`, `V10`, `V11`, `V12`, `V14`, `V16`, `V17`, `V18` e `V19`, e é nessas variaveis que conseguimos identificar mais facilmente fraudes ocorridas em compras. \n",
        "\n",
        "\n",
        "\n"
      ]
    },
    {
      "cell_type": "markdown",
      "metadata": {
        "id": "vT0Q4aIYBeTH",
        "colab_type": "text"
      },
      "source": [
        "**Resumindo parte 03**\n",
        "\n",
        "Antes de irmos para a preparção de dados, onde vamos organiza-los, distribui-los para mais a frente modelarmos, vamos resumir o que acabamos de analisar.\n",
        "\n",
        "*  **Primeiro** - Compras normais tomam grande parte dos dados com 99,8% e compras com fraudes apenas 0,2%, e compras fraudadas sempre são em menores valores, dificeis de rastrear e identificar.\n",
        "\n",
        "*  **Segundo** - Os dados não estão balanceados.\n",
        "\n",
        "*  **Terceiro** - Não há valores ausentes.\n",
        "\n",
        "*  **Quarto** - A maioria dos graficos se comportam sem muita distinção, porém a quantidade de graficos que se comportam de maneira distinta não é pequena.\n",
        "\n"
      ]
    },
    {
      "cell_type": "markdown",
      "metadata": {
        "id": "E_Kc99YnBrD8",
        "colab_type": "text"
      },
      "source": [
        "#04 - PREPARAÇÃO DOS DADOS\n"
      ]
    },
    {
      "cell_type": "markdown",
      "metadata": {
        "id": "dI8uH4KTJQ4q",
        "colab_type": "text"
      },
      "source": [
        "Nesta etapa vamos preparar os dados que analisamos. Bom você pode estar se perguntado, preparar oque? e pra que?\n",
        "\n",
        "Bom, como visto no começo, esse é um projeto para identificar quando compras foram fraudadas ou não, e para isso precisamos preparar nosso dados, pois como visto na parte de **analise exploratoria**, nosso dados estão desbalanceados, e e para criar um modelo de machine learn com uma precisam confiavel precisamos ter dados que correspondam para o treinamento.\n",
        "\n",
        "Para essa etapa temos 2 passos importantes.\n",
        "* `Padronizar os dados` - Essa tecnica tem como objetivo transformar todas as variaveis na mesma ordem de grandeza.\n",
        "* `Train & Test` - Separar o dataset entre treino e teste.\n",
        "* `Balancearmos os dados` - A fim de evitar uma baixa performance para a `classe == 1 (fraude)` e overfitting."
      ]
    },
    {
      "cell_type": "markdown",
      "metadata": {
        "id": "DNqrRmngOSkj",
        "colab_type": "text"
      },
      "source": [
        "**Primeiro**"
      ]
    },
    {
      "cell_type": "markdown",
      "metadata": {
        "id": "hrsNzcflPFNE",
        "colab_type": "text"
      },
      "source": [
        "Bom nessa etapa vamos padronizar a variavel `Amount` e `Time`, que possuem *Outliers*(desvio padrao) e utilizaremos o classe *StandardScaler*.\n",
        "\n"
      ]
    },
    {
      "cell_type": "code",
      "metadata": {
        "id": "9L9UJjSEQggM",
        "colab_type": "code",
        "outputId": "2f4a17ff-b3a9-4fe5-ee99-5c447f055695",
        "colab": {
          "base_uri": "https://localhost:8080/",
          "height": 224
        }
      },
      "source": [
        "# Fazendo uma copia do Dataset\n",
        "df_new = df.copy()\n",
        "\n",
        "# Criando um objeto para a classe StandardScaler()\n",
        "std_scaler = StandardScaler()\n",
        "\n",
        "# Colocando um novas colunas/Series Time e Amount\n",
        "df_new['std_amount'] = std_scaler.fit_transform(df_new['Amount'].values.reshape(-1,1))\n",
        "df_new['std_time'] = std_scaler.fit_transform(df_new['Time'].values.reshape(-1,1))\n",
        "\n",
        "# Retirando as antigas colunas Time e Amount\n",
        "df_new.drop(['Time','Amount'], axis=1, inplace=True)\n",
        "\n",
        "# output das 5 primeiras linhas\n",
        "df_new.head()"
      ],
      "execution_count": 6,
      "outputs": [
        {
          "output_type": "execute_result",
          "data": {
            "text/html": [
              "<div>\n",
              "<style scoped>\n",
              "    .dataframe tbody tr th:only-of-type {\n",
              "        vertical-align: middle;\n",
              "    }\n",
              "\n",
              "    .dataframe tbody tr th {\n",
              "        vertical-align: top;\n",
              "    }\n",
              "\n",
              "    .dataframe thead th {\n",
              "        text-align: right;\n",
              "    }\n",
              "</style>\n",
              "<table border=\"1\" class=\"dataframe\">\n",
              "  <thead>\n",
              "    <tr style=\"text-align: right;\">\n",
              "      <th></th>\n",
              "      <th>V1</th>\n",
              "      <th>V2</th>\n",
              "      <th>V3</th>\n",
              "      <th>V4</th>\n",
              "      <th>V5</th>\n",
              "      <th>V6</th>\n",
              "      <th>V7</th>\n",
              "      <th>V8</th>\n",
              "      <th>V9</th>\n",
              "      <th>V10</th>\n",
              "      <th>V11</th>\n",
              "      <th>V12</th>\n",
              "      <th>V13</th>\n",
              "      <th>V14</th>\n",
              "      <th>V15</th>\n",
              "      <th>V16</th>\n",
              "      <th>V17</th>\n",
              "      <th>V18</th>\n",
              "      <th>V19</th>\n",
              "      <th>V20</th>\n",
              "      <th>V21</th>\n",
              "      <th>V22</th>\n",
              "      <th>V23</th>\n",
              "      <th>V24</th>\n",
              "      <th>V25</th>\n",
              "      <th>V26</th>\n",
              "      <th>V27</th>\n",
              "      <th>V28</th>\n",
              "      <th>Class</th>\n",
              "      <th>std_amount</th>\n",
              "      <th>std_time</th>\n",
              "    </tr>\n",
              "  </thead>\n",
              "  <tbody>\n",
              "    <tr>\n",
              "      <th>0</th>\n",
              "      <td>-1.359807</td>\n",
              "      <td>-0.072781</td>\n",
              "      <td>2.536347</td>\n",
              "      <td>1.378155</td>\n",
              "      <td>-0.338321</td>\n",
              "      <td>0.462388</td>\n",
              "      <td>0.239599</td>\n",
              "      <td>0.098698</td>\n",
              "      <td>0.363787</td>\n",
              "      <td>0.090794</td>\n",
              "      <td>-0.551600</td>\n",
              "      <td>-0.617801</td>\n",
              "      <td>-0.991390</td>\n",
              "      <td>-0.311169</td>\n",
              "      <td>1.468177</td>\n",
              "      <td>-0.470401</td>\n",
              "      <td>0.207971</td>\n",
              "      <td>0.025791</td>\n",
              "      <td>0.403993</td>\n",
              "      <td>0.251412</td>\n",
              "      <td>-0.018307</td>\n",
              "      <td>0.277838</td>\n",
              "      <td>-0.110474</td>\n",
              "      <td>0.066928</td>\n",
              "      <td>0.128539</td>\n",
              "      <td>-0.189115</td>\n",
              "      <td>0.133558</td>\n",
              "      <td>-0.021053</td>\n",
              "      <td>0</td>\n",
              "      <td>0.244964</td>\n",
              "      <td>-1.996583</td>\n",
              "    </tr>\n",
              "    <tr>\n",
              "      <th>1</th>\n",
              "      <td>1.191857</td>\n",
              "      <td>0.266151</td>\n",
              "      <td>0.166480</td>\n",
              "      <td>0.448154</td>\n",
              "      <td>0.060018</td>\n",
              "      <td>-0.082361</td>\n",
              "      <td>-0.078803</td>\n",
              "      <td>0.085102</td>\n",
              "      <td>-0.255425</td>\n",
              "      <td>-0.166974</td>\n",
              "      <td>1.612727</td>\n",
              "      <td>1.065235</td>\n",
              "      <td>0.489095</td>\n",
              "      <td>-0.143772</td>\n",
              "      <td>0.635558</td>\n",
              "      <td>0.463917</td>\n",
              "      <td>-0.114805</td>\n",
              "      <td>-0.183361</td>\n",
              "      <td>-0.145783</td>\n",
              "      <td>-0.069083</td>\n",
              "      <td>-0.225775</td>\n",
              "      <td>-0.638672</td>\n",
              "      <td>0.101288</td>\n",
              "      <td>-0.339846</td>\n",
              "      <td>0.167170</td>\n",
              "      <td>0.125895</td>\n",
              "      <td>-0.008983</td>\n",
              "      <td>0.014724</td>\n",
              "      <td>0</td>\n",
              "      <td>-0.342475</td>\n",
              "      <td>-1.996583</td>\n",
              "    </tr>\n",
              "    <tr>\n",
              "      <th>2</th>\n",
              "      <td>-1.358354</td>\n",
              "      <td>-1.340163</td>\n",
              "      <td>1.773209</td>\n",
              "      <td>0.379780</td>\n",
              "      <td>-0.503198</td>\n",
              "      <td>1.800499</td>\n",
              "      <td>0.791461</td>\n",
              "      <td>0.247676</td>\n",
              "      <td>-1.514654</td>\n",
              "      <td>0.207643</td>\n",
              "      <td>0.624501</td>\n",
              "      <td>0.066084</td>\n",
              "      <td>0.717293</td>\n",
              "      <td>-0.165946</td>\n",
              "      <td>2.345865</td>\n",
              "      <td>-2.890083</td>\n",
              "      <td>1.109969</td>\n",
              "      <td>-0.121359</td>\n",
              "      <td>-2.261857</td>\n",
              "      <td>0.524980</td>\n",
              "      <td>0.247998</td>\n",
              "      <td>0.771679</td>\n",
              "      <td>0.909412</td>\n",
              "      <td>-0.689281</td>\n",
              "      <td>-0.327642</td>\n",
              "      <td>-0.139097</td>\n",
              "      <td>-0.055353</td>\n",
              "      <td>-0.059752</td>\n",
              "      <td>0</td>\n",
              "      <td>1.160686</td>\n",
              "      <td>-1.996562</td>\n",
              "    </tr>\n",
              "    <tr>\n",
              "      <th>3</th>\n",
              "      <td>-0.966272</td>\n",
              "      <td>-0.185226</td>\n",
              "      <td>1.792993</td>\n",
              "      <td>-0.863291</td>\n",
              "      <td>-0.010309</td>\n",
              "      <td>1.247203</td>\n",
              "      <td>0.237609</td>\n",
              "      <td>0.377436</td>\n",
              "      <td>-1.387024</td>\n",
              "      <td>-0.054952</td>\n",
              "      <td>-0.226487</td>\n",
              "      <td>0.178228</td>\n",
              "      <td>0.507757</td>\n",
              "      <td>-0.287924</td>\n",
              "      <td>-0.631418</td>\n",
              "      <td>-1.059647</td>\n",
              "      <td>-0.684093</td>\n",
              "      <td>1.965775</td>\n",
              "      <td>-1.232622</td>\n",
              "      <td>-0.208038</td>\n",
              "      <td>-0.108300</td>\n",
              "      <td>0.005274</td>\n",
              "      <td>-0.190321</td>\n",
              "      <td>-1.175575</td>\n",
              "      <td>0.647376</td>\n",
              "      <td>-0.221929</td>\n",
              "      <td>0.062723</td>\n",
              "      <td>0.061458</td>\n",
              "      <td>0</td>\n",
              "      <td>0.140534</td>\n",
              "      <td>-1.996562</td>\n",
              "    </tr>\n",
              "    <tr>\n",
              "      <th>4</th>\n",
              "      <td>-1.158233</td>\n",
              "      <td>0.877737</td>\n",
              "      <td>1.548718</td>\n",
              "      <td>0.403034</td>\n",
              "      <td>-0.407193</td>\n",
              "      <td>0.095921</td>\n",
              "      <td>0.592941</td>\n",
              "      <td>-0.270533</td>\n",
              "      <td>0.817739</td>\n",
              "      <td>0.753074</td>\n",
              "      <td>-0.822843</td>\n",
              "      <td>0.538196</td>\n",
              "      <td>1.345852</td>\n",
              "      <td>-1.119670</td>\n",
              "      <td>0.175121</td>\n",
              "      <td>-0.451449</td>\n",
              "      <td>-0.237033</td>\n",
              "      <td>-0.038195</td>\n",
              "      <td>0.803487</td>\n",
              "      <td>0.408542</td>\n",
              "      <td>-0.009431</td>\n",
              "      <td>0.798278</td>\n",
              "      <td>-0.137458</td>\n",
              "      <td>0.141267</td>\n",
              "      <td>-0.206010</td>\n",
              "      <td>0.502292</td>\n",
              "      <td>0.219422</td>\n",
              "      <td>0.215153</td>\n",
              "      <td>0</td>\n",
              "      <td>-0.073403</td>\n",
              "      <td>-1.996541</td>\n",
              "    </tr>\n",
              "  </tbody>\n",
              "</table>\n",
              "</div>"
            ],
            "text/plain": [
              "         V1        V2        V3  ...  Class  std_amount  std_time\n",
              "0 -1.359807 -0.072781  2.536347  ...      0    0.244964 -1.996583\n",
              "1  1.191857  0.266151  0.166480  ...      0   -0.342475 -1.996583\n",
              "2 -1.358354 -1.340163  1.773209  ...      0    1.160686 -1.996562\n",
              "3 -0.966272 -0.185226  1.792993  ...      0    0.140534 -1.996562\n",
              "4 -1.158233  0.877737  1.548718  ...      0   -0.073403 -1.996541\n",
              "\n",
              "[5 rows x 31 columns]"
            ]
          },
          "metadata": {
            "tags": []
          },
          "execution_count": 6
        }
      ]
    },
    {
      "cell_type": "markdown",
      "metadata": {
        "id": "jfGuL-j4Ua0l",
        "colab_type": "text"
      },
      "source": [
        "**Segundo**\n",
        "\n",
        "Bom, provavelmente se voce ja mexeu com algum projeto de DS com machine learn ou viu algum, sempre ha dois tipos de arquivo, um de treino `train` e `test`.\n",
        "* `Train` - Tem o objetivo de treinar seu modelo, todos tipos de modificaçao, remosão etc, voce realiza nele.\n",
        "* `Test`  - É o nosso dataset bruto, que utilizaremos como parametro de comparaçao quando tivermos ja treinado nosso dataset de treino `train`, para nao haver nenhum tipo de dado com vies, e verificarmos se o modelo esta adequado\n",
        "\n",
        "Para isso vamos utilizar uma a funçao `train_test_split`, que tem alguns parametros que nos seram uteis, como:\n",
        "O primeiro mantém a mesma proporção de valores para as categórias da variável alvo, ou seja, no conjunto de treino e teste haverá a mesma proporção de compras fraudulentas em relação ao total de compras. \n",
        "\n",
        "* stratify - Mantem a mesma proporção para as entradas da varivel dependente no treino e teste.\n",
        "* shuffle - Mistura as entradas antes de separa-las."
      ]
    },
    {
      "cell_type": "code",
      "metadata": {
        "id": "E4S31YWFeX-P",
        "colab_type": "code",
        "colab": {}
      },
      "source": [
        "##Separ os dados entre X e y###\n",
        "\n",
        "#dropando a Variavel Class da variavel X\n",
        "X = df_new.drop('Class', axis=1)\n",
        "\n",
        "#Inserindo somente uma variavel na variavel y\n",
        "y = df['Class']\n",
        "\n",
        "# Dividir os dados etre treino e teste\n",
        "X_train, X_test, y_train, y_test = train_test_split(X, y, stratify=y, shuffle=True)\n"
      ],
      "execution_count": 0,
      "outputs": []
    },
    {
      "cell_type": "markdown",
      "metadata": {
        "id": "LAeImwcJhq1w",
        "colab_type": "text"
      },
      "source": [
        "**Terceiro**\n",
        "\n",
        "Agora para balancearmos os dados iremos usar a lib `imblearn` que nos facilita o balanceamento dos dados, essa bliblioteca contem 2 tipos de metodos.\n",
        "\n",
        "* `over_sampling` - Duplica as observaçoes da classe minoritaria para balancear o dataset.\n",
        "* `under_sampling` - Dropa observaçoes da classe majoritaria para balancear o dataset.\n",
        "\n",
        "Bom, como nosso dataset contem uma discrepancia entre valores `normais` e `fraudes`, Inserir novos valores poderia nos dar uma modelagem nao tao adeguada, entao nesse caso usaremos `under_sampling`.\n"
      ]
    },
    {
      "cell_type": "code",
      "metadata": {
        "id": "e-5IB7Q4l6Sq",
        "colab_type": "code",
        "outputId": "2a411c40-6b46-41d9-ef20-c0bdc0328d5a",
        "colab": {
          "base_uri": "https://localhost:8080/",
          "height": 51
        }
      },
      "source": [
        "from imblearn.under_sampling import RandomUnderSampler\n",
        "\n",
        "#Utilizando o funçao under_samping\n",
        "rus = RandomUnderSampler();\n",
        "X_rus, y_rus, = rus.fit_sample(X_train,y_train);"
      ],
      "execution_count": 9,
      "outputs": [
        {
          "output_type": "stream",
          "text": [
            "/usr/local/lib/python3.6/dist-packages/sklearn/utils/deprecation.py:87: FutureWarning: Function safe_indexing is deprecated; safe_indexing is deprecated in version 0.22 and will be removed in version 0.24.\n",
            "  warnings.warn(msg, category=FutureWarning)\n"
          ],
          "name": "stderr"
        }
      ]
    },
    {
      "cell_type": "code",
      "metadata": {
        "id": "Q0rQ7RDVoZRF",
        "colab_type": "code",
        "outputId": "b19798c6-396b-44a7-ef00-d7794f8da816",
        "colab": {
          "base_uri": "https://localhost:8080/",
          "height": 50
        }
      },
      "source": [
        "#  Mostrar valores\n",
        "print(\"Compras Fraudulentas - 1: \\t{} \".format(pd.Series(y_rus).value_counts()[0]))\n",
        "print(\"Compras Normais      - 0: \\t{} \".format(pd.Series(y_rus).value_counts()[1]))\n"
      ],
      "execution_count": 0,
      "outputs": [
        {
          "output_type": "stream",
          "text": [
            "Compras Fraudulentas - 1: \t369 \n",
            "Compras Normais      - 0: \t369 \n"
          ],
          "name": "stdout"
        }
      ]
    },
    {
      "cell_type": "code",
      "metadata": {
        "id": "DJW7VJ3uoWkz",
        "colab_type": "code",
        "outputId": "b2f72727-179e-4d39-a43d-ba68ff466072",
        "colab": {
          "base_uri": "https://localhost:8080/",
          "height": 265
        }
      },
      "source": [
        "# plotar a nova distribuição de classes\n",
        "sns.countplot(y_rus, palette='winter');"
      ],
      "execution_count": 171,
      "outputs": [
        {
          "output_type": "display_data",
          "data": {
            "image/png": "[encoded data removed]",
            "text/plain": [
              "<Figure size 432x288 with 1 Axes>"
            ]
          },
          "metadata": {
            "tags": []
          }
        }
      ]
    },
    {
      "cell_type": "markdown",
      "metadata": {
        "id": "ZMBwNnOIpN-J",
        "colab_type": "text"
      },
      "source": [
        "**Quarto**\n",
        "\n",
        "Agora vamos plotar uma matriz de correlação e vermos como os dados estavam antes e depois de serem balanceados.\n",
        "\n",
        "obs.: Como o proprio nome diz, mapa de correlaçao, ele nos da a possibilidade de obeservar o quanto as variaveis tem mais relação entre si com `heatmap`\n",
        "Quanto maior o valor `1.00` maior a correlaçao, quanto menor a correlaçao `0.75` menor a relaçao entre as variaveis."
      ]
    },
    {
      "cell_type": "code",
      "metadata": {
        "id": "zna3T0wypKsN",
        "colab_type": "code",
        "outputId": "66897160-7893-4376-9f16-67730aeadc35",
        "colab": {
          "base_uri": "https://localhost:8080/",
          "height": 589
        }
      },
      "source": [
        "# Criar correlação desbalanceada\n",
        "corr = X_train.corr()\n",
        "\n",
        "# Criar correlação balanceada\n",
        "corr_rus = pd.DataFrame(X_rus).corr()\n",
        "\n",
        "# Plotar matriz de correlação\n",
        "fig, ax = plt.subplots(nrows=1, ncols=2, figsize = (18,8))\n",
        "fig.suptitle('Matriz de Correlação')\n",
        "\n",
        "sns.heatmap(corr, xticklabels=corr.columns, yticklabels=corr.columns,\n",
        "            linewidths=.0, cmap=\"BuGn\", ax=ax[0])\n",
        "ax[0].set_title('Desbalanceado')\n",
        "\n",
        "sns.heatmap(corr_rus, xticklabels=corr.columns, yticklabels=corr.columns,\n",
        "            linewidths=.0, cmap=\"BuGn\", ax=ax[1])\n",
        "ax[1].set_title('Balanceado')\n",
        "\n",
        "plt.show()\n",
        "\n"
      ],
      "execution_count": 173,
      "outputs": [
        {
          "output_type": "display_data",
          "data": {
            "image/png": "[encoded data removed]",
            "text/plain": [
              "<Figure size 1296x576 with 4 Axes>"
            ]
          },
          "metadata": {
            "tags": []
          }
        }
      ]
    },
    {
      "cell_type": "markdown",
      "metadata": {
        "id": "8HaqQApOvNs2",
        "colab_type": "text"
      },
      "source": [
        "**Resumindo parte 04**\n",
        "\n",
        "* **Primeiro** - Padronizamos nossas variveis `Time` e `Amount` para poderem ter a mesma ordem de grandeza.\n",
        "* **Segundo** - Separamos nosso dataset entre treino e teste com a funçao `train_test_split`.\n",
        "* **Terceiro** - Vimos que utilizar `under-sampling` era a melhor opçao para nossa analise e tornamos as entradas das variaveis `0 - Normal`  e `1 - Fraude` equivalentes.\n",
        "* **Quarto** - Plotamos um grafico de correlaçao `heatmap` para termos uma melhor visualizaçao do antes e depois dos dados balanceados e analisarmos as correlaçoes entre as variaveis mais claramente."
      ]
    },
    {
      "cell_type": "markdown",
      "metadata": {
        "id": "JOpAJqzOBupI",
        "colab_type": "text"
      },
      "source": [
        "#05 - MODELOS DE MACHINE LEARN\n"
      ]
    },
    {
      "cell_type": "markdown",
      "metadata": {
        "id": "h4jRVdRqZw-2",
        "colab_type": "text"
      },
      "source": [
        "Agora que ja fizemos nossa analise exploratoria, preparamos nossos dados, vamos montar um modelo de regressao logistica, pois nosso modelo tem como variavel depentente valores classificatorios, `0 - normal` &  `1 - fraude`. \n",
        "\n",
        "Temos alguns passos a tomados:\n",
        "\n",
        "* `Instanciar e  treinar`\n",
        "* `Fazer previsoes` \n",
        "\n"
      ]
    },
    {
      "cell_type": "code",
      "metadata": {
        "id": "o7TyCQhMbq-y",
        "colab_type": "code",
        "colab": {}
      },
      "source": [
        "# Instanciar e treinar um modelo de regressao logistica\n",
        "\n",
        "model = LogisticRegression()\n",
        "model.fit(X_rus,y_rus)\n",
        "\n",
        "#Fazer as previsoes utlizando os dados de teste que nao foram alterados\n",
        "\n",
        "y_pred = model.predict(X_test)\n",
        "x_proba = model.predict(X_test)"
      ],
      "execution_count": 0,
      "outputs": []
    },
    {
      "cell_type": "markdown",
      "metadata": {
        "id": "PwROmtNiDNxn",
        "colab_type": "text"
      },
      "source": [
        "#06 - DESEMPENHO DO MODELO"
      ]
    },
    {
      "cell_type": "markdown",
      "metadata": {
        "id": "vA1IoX2afB0C",
        "colab_type": "text"
      },
      "source": [
        "Logo após treinar e fazer as previsoes com os dados, temos que avaliar o desempenho do mesmo, para isso temos alguns pontos a prestarmos atenção. \n",
        "\n",
        "Na etapa de analise exploratoria vimos que a quantidade de dados pertencentis a categoria `0 - normal` era muito superior a `1 - fraude`, e isso poderia afetar detecçao de fraude, exemplificando, seria como identificar quais dos 2 gemeos gostam de maça sem conhece-los ou ter **dados** sobre eles, então quanto mais eu ter a mesma quantidade de dados de ambos, mais precisa pode ser minha detecção.\n",
        "\n",
        "artigo que explica melhor sobre balanceamento de dados e sua importancia [link](https://sigmoidal.ai/como-lidar-com-dados-desbalanceados/).\n",
        "\n",
        "Bom, oque precisamos observar para saber se nosso detecção de fraude esta boa é:\n",
        "\n",
        "* `precision` - A precisão diz respeito à quantidade (proporcional) de identificações positivas feita corretamente\n",
        "* `accuracy` - Mostra quantas previsões o modelo acertou em relação a todas que seriam possíveis.\n",
        "* `recall` - Mostra a proporção de positivos encontrados corretamente.\n",
        "* `f1-score` - É a média harmonica entre precisão e recall. O melhor valor possível para 0 f-score é 1 e o pior é 0.\n",
        "* `AUC` - ou [AUC ROC](https://medium.com/bio-data-blog/entenda-o-que-%C3%A9-auc-e-roc-nos-modelos-de-machine-learning-8191fb4df772) Avalia a eficiencia da modelo.\n",
        "\n"
      ]
    },
    {
      "cell_type": "code",
      "metadata": {
        "id": "p76ZYNavErkB",
        "colab_type": "code",
        "outputId": "70269976-a196-4239-d42d-e9f661817379",
        "colab": {
          "base_uri": "https://localhost:8080/",
          "height": 533
        }
      },
      "source": [
        "#Plotar a matrix de confusao\n",
        "skplt.metrics.plot_confusion_matrix(y_test, y_pred, normalize=True)\n",
        "\n",
        "#Imprimir relatorio de classifiação\n",
        "print(\"Relatorio de classificaçao:\\n\", classification_report(y_test, y_pred, digits=4))\n",
        "\n",
        "#Imprimir a acuracia do modelo\n",
        "print(\"Acuracia: {:.4f}\\n\".format(accuracy_score(y_test, y_pred)))\n",
        "\n",
        "#Imprimir a area sob da curva\n",
        "print(\"AUC: {:.4F}\\n\".format(roc_auc_score(y_test, y_pred)))"
      ],
      "execution_count": 177,
      "outputs": [
        {
          "output_type": "stream",
          "text": [
            "Relatorio de classificaçao:\n",
            "               precision    recall  f1-score   support\n",
            "\n",
            "           0     0.9999    0.9609    0.9800     71079\n",
            "           1     0.0397    0.9350    0.0762       123\n",
            "\n",
            "    accuracy                         0.9609     71202\n",
            "   macro avg     0.5198    0.9479    0.5281     71202\n",
            "weighted avg     0.9982    0.9609    0.9784     71202\n",
            "\n",
            "Acuracia: 0.9609\n",
            "\n",
            "AUC: 0.9479\n",
            "\n"
          ],
          "name": "stdout"
        },
        {
          "output_type": "display_data",
          "data": {
            "image/png": "[encoded data removed]",
            "text/plain": [
              "<Figure size 432x288 with 2 Axes>"
            ]
          },
          "metadata": {
            "tags": []
          }
        }
      ]
    },
    {
      "cell_type": "markdown",
      "metadata": {
        "id": "QRXkLesiFfTa",
        "colab_type": "text"
      },
      "source": [
        "**explicação Modelo de Classificação**\n",
        "\n",
        "Usarei um exemplo para aqueles que ainda não conhecem o modelo de classificação, possam entender de forma clara:\n",
        "\n",
        "* **Verdadeiro positivo (*true positive* — TP):**\n",
        "\n",
        " Você previu positivo e é verdadeiro\n",
        "\n",
        "  * *Você previu que a mulher **esta gravida**, e ela realmente **esta**.*\n",
        "\n",
        "* **Falso verdadeiro (*true negative* — TN)**: \n",
        "\n",
        "  Você previu negativo e é verdadeiro.\n",
        "\n",
        "  * Você previu que o homem **não esta gravido**, e ele **realmente não esta**.\n",
        "\n",
        "* **Falso positivo (*false positive* — FP — Type 1 Error):**\n",
        "\n",
        " Você previu positivo e é falso. \n",
        "\n",
        "  * Você previu que o **homem esta gravido**, e ele na verdade **não esta.**\n",
        "\n",
        "* **Verdadeiro negativo (*false negative* — FN — Type 2 Error):** \n",
        "\n",
        " Você previu negativo e é falso. \n",
        "\n",
        "  * Você previu que a mulher **não esta gravida** mas ela na verdade **esta**.\n",
        "\n",
        "  ![alt text](https://miro.medium.com/max/462/1*7EYylA6XlXSGBCF77j_rOA.png)\n"
      ]
    },
    {
      "cell_type": "markdown",
      "metadata": {
        "id": "6JXjKpfZDSMv",
        "colab_type": "text"
      },
      "source": [
        "# CONCLUSÃO"
      ]
    },
    {
      "cell_type": "markdown",
      "metadata": {
        "id": "7nF_Dhd81Cvq",
        "colab_type": "text"
      },
      "source": [
        "\n",
        "Apesar do dataset estar compacto, sem valores ausentes ou variáveis categóricas, foi preciso tratar os dados, pois a discrepância entre compras normais e fraudulentas era grande, que iria acabar criando um bom modelo para identificar compras normais, e compras com fraudes acabaria passando sem ser notadas, e acarretaria em um grande prejuízo para a empresa, mas conseguimos construir um bom modelo para identifica-los.\n",
        "\n",
        "**Observação**\n",
        "\n",
        "Como foi analisado no nosso dataset, compras fraudadas tem uma característica que é o valor baixo de compra, então lembrei de algumas noticias de li que se encaixam na característica citada, que são transações atípicas, que por muitas vezes são realizar pelos próprios filhos em jogos online, uma rápida pesquisa no Google e você encontra, *Garoto de 10 anos gasta mais de R$ 6.000 em Fortnite e deixa mãe no vermelho*, *'Meus filhos esvaziaram nossa conta bancária jogando Fifa'* entre outras. O ponto que quero colocar é que por muitas vezes o problema esta mais perto do que imaginamos, e fazer compras online é algo realmente muito simples de ser fazer."
      ]
    }
  ]
}